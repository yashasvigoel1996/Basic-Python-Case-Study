{
 "cells": [
  {
   "cell_type": "markdown",
   "metadata": {},
   "source": [
    "## Python Basic Programming Exercises"
   ]
  },
  {
   "cell_type": "code",
   "execution_count": null,
   "metadata": {
    "collapsed": true
   },
   "outputs": [],
   "source": [
    "#1: Write a program which will find all such numbers which are divisible by 7 \n",
    "#   but are not a multiple of 5, between 2000 and 3200 (both included).\n",
    "\n",
    "\n",
    "#Hints: Consider use range(#begin, #end) method\n"
   ]
  },
  {
   "cell_type": "code",
   "execution_count": 6,
   "metadata": {},
   "outputs": [],
   "source": [
    "def divBy7NotMulBy5(allNum):\n",
    "    '''\n",
    "    This function takes tuple as input.\n",
    "    It will iterate each & every element of tuple and append those element which are divisible by 7 \n",
    "    but are not a a multiple of 5 in a list and return that list as output.\n",
    "    '''\n",
    "    \n",
    "    reqNum = []\n",
    "    for i in allNum:\n",
    "        if(i%7==0 and i%5!=0):\n",
    "            reqNum.append(i)\n",
    "    return reqNum"
   ]
  },
  {
   "cell_type": "code",
   "execution_count": 7,
   "metadata": {},
   "outputs": [
    {
     "name": "stdout",
     "output_type": "stream",
     "text": [
      "[2002, 2009, 2016, 2023, 2037, 2044, 2051, 2058, 2072, 2079, 2086, 2093, 2107, 2114, 2121, 2128, 2142, 2149, 2156, 2163, 2177, 2184, 2191, 2198, 2212, 2219, 2226, 2233, 2247, 2254, 2261, 2268, 2282, 2289, 2296, 2303, 2317, 2324, 2331, 2338, 2352, 2359, 2366, 2373, 2387, 2394, 2401, 2408, 2422, 2429, 2436, 2443, 2457, 2464, 2471, 2478, 2492, 2499, 2506, 2513, 2527, 2534, 2541, 2548, 2562, 2569, 2576, 2583, 2597, 2604, 2611, 2618, 2632, 2639, 2646, 2653, 2667, 2674, 2681, 2688, 2702, 2709, 2716, 2723, 2737, 2744, 2751, 2758, 2772, 2779, 2786, 2793, 2807, 2814, 2821, 2828, 2842, 2849, 2856, 2863, 2877, 2884, 2891, 2898, 2912, 2919, 2926, 2933, 2947, 2954, 2961, 2968, 2982, 2989, 2996, 3003, 3017, 3024, 3031, 3038, 3052, 3059, 3066, 3073, 3087, 3094, 3101, 3108, 3122, 3129, 3136, 3143, 3157, 3164, 3171, 3178, 3192, 3199]\n"
     ]
    }
   ],
   "source": [
    "allNum  = tuple(range(2000,3201))\n",
    "reqNum = divBy7NotMulBy5(allNum)\n",
    "print(reqNum)"
   ]
  },
  {
   "cell_type": "code",
   "execution_count": null,
   "metadata": {
    "collapsed": true
   },
   "outputs": [],
   "source": [
    "#2. Write a program which can compute the factorial of a given numbers. \n",
    "#   The results should be printed in a comma-separated sequence on a single line. \n",
    "# input() function can be used for getting user(console) input\n",
    "# raw_input() for python 2.x\n",
    "\n",
    "#Suppose the input is supplied to the program:  8  \n",
    "#Then, the output should be:  40320 \n",
    "#Hints: In case of input data being supplied to the question, it should be assumed to be a console input. \n"
   ]
  },
  {
   "cell_type": "code",
   "execution_count": 10,
   "metadata": {},
   "outputs": [],
   "source": [
    "def factorial(num):\n",
    "    '''\n",
    "    This function take number as an input and\n",
    "    calculate factorial of the number and\n",
    "    return factorial as output.\n",
    "    '''\n",
    "    \n",
    "    if(num==0):\n",
    "        return 1\n",
    "    elif(num<0):\n",
    "        return \"Please enter non-negative integer number\"\n",
    "    else:\n",
    "        fact =1\n",
    "        while(num>1):\n",
    "            fact=fact*num\n",
    "            num-=1\n",
    "        return fact\n",
    "    "
   ]
  },
  {
   "cell_type": "code",
   "execution_count": 11,
   "metadata": {},
   "outputs": [
    {
     "name": "stdout",
     "output_type": "stream",
     "text": [
      "9\n",
      "362880\n"
     ]
    }
   ],
   "source": [
    "numInStr = input()\n",
    "numInInt = int(numInStr)\n",
    "fact = factorial(numInInt)\n",
    "print(fact)"
   ]
  },
  {
   "cell_type": "code",
   "execution_count": 3,
   "metadata": {},
   "outputs": [],
   "source": [
    "#3. With a given integral number n, write a program to generate a dictionary that contains (i, i*i) such that is an integral number between 1 and n (both included). and then the program should print the dictionary.\n",
    "#Suppose the following input is supplied to the program: 8\n",
    "#Then, the output should be: {1: 1, 2: 4, 3: 9, 4: 16, 5: 25, 6: 36, 7: 49, 8: 64}\n",
    "#Hints: In case of input data being supplied to the question, it should be assumed to be a console input. Consider use dict()\n",
    "\n"
   ]
  },
  {
   "cell_type": "code",
   "execution_count": 4,
   "metadata": {},
   "outputs": [],
   "source": [
    "def intNumwithSquareInDict(num):\n",
    "    '''\n",
    "    This function takes input as positive integer number and\n",
    "    generate a dictionary that contains (i, i*i) such that is an integral number between 1 and n (both included). \n",
    "    and then the program should print the dictionary\n",
    "    for ex:- {1: 1, 2: 4, 3: 9, 4: 16, 5: 25, 6: 36, 7: 49, 8: 64}\n",
    "    '''\n",
    "    \n",
    "    if(num<1):\n",
    "        return \"Please enter positive integer number\"\n",
    "    else:\n",
    "        numWithSqDict={}\n",
    "        startPoint = 1\n",
    "        endPoint = num+1\n",
    "        while(startPoint<endPoint):\n",
    "            numWithSqDict[startPoint]=startPoint**2\n",
    "            startPoint+=1\n",
    "        return numWithSqDict"
   ]
  },
  {
   "cell_type": "code",
   "execution_count": 8,
   "metadata": {},
   "outputs": [
    {
     "name": "stdout",
     "output_type": "stream",
     "text": [
      "8\n",
      "{1: 1, 2: 4, 3: 9, 4: 16, 5: 25, 6: 36, 7: 49, 8: 64}\n"
     ]
    }
   ],
   "source": [
    "numInStr = input()\n",
    "numInInt = int(numInStr)\n",
    "print(intNumwithSquareInDict(numInInt))"
   ]
  },
  {
   "cell_type": "code",
   "execution_count": null,
   "metadata": {
    "collapsed": true
   },
   "outputs": [],
   "source": [
    "#4. Write a program which accepts a sequence of comma-separated numbers from console and generate a list and a tuple which contains every number.\n",
    "#Suppose the following input is supplied to the program: 34,67,55,33,12,98\n",
    "    #Then, the output should be: ['34', '67', '55', '33', '12', '98'] ('34', '67', '55', '33', '12', '98')\n",
    "\n",
    "#Hints: In case of input data being supplied to the question, it should be assumed to be a console input. tuple() method can convert list to tuple\n"
   ]
  },
  {
   "cell_type": "code",
   "execution_count": 29,
   "metadata": {},
   "outputs": [],
   "source": [
    "def genTupleList(seqOfNumbers):\n",
    "    '''\n",
    "    This function take sequence of comma-separated numbers as input.\n",
    "    Split them on the basis of comma and generate list & tuple.\n",
    "    Print generated list & tuple.\n",
    "    '''\n",
    "    listOfSeq = seqOfNumbers.split(',')\n",
    "    tupleOfSeq = tuple(listOfSeq)\n",
    "    print(listOfSeq,tupleOfSeq)\n"
   ]
  },
  {
   "cell_type": "code",
   "execution_count": 30,
   "metadata": {},
   "outputs": [
    {
     "name": "stdout",
     "output_type": "stream",
     "text": [
      "34,67,55,33,12,98\n",
      "['34', '67', '55', '33', '12', '98'] ('34', '67', '55', '33', '12', '98')\n"
     ]
    }
   ],
   "source": [
    "numOfSeq = input()\n",
    "genTupleList(numOfSeq)"
   ]
  },
  {
   "cell_type": "code",
   "execution_count": null,
   "metadata": {
    "collapsed": true
   },
   "outputs": [],
   "source": [
    "#5. Define a class which has at least two methods: getString: to get a string from console input and \n",
    "#printString: to print the string in upper case. Also please include simple test function to test the class methods.\n",
    "\n",
    "#Hints: Use __init__ method to construct some parameters\n"
   ]
  },
  {
   "cell_type": "code",
   "execution_count": 4,
   "metadata": {},
   "outputs": [],
   "source": [
    "class stringMethods:\n",
    "    def __init__(self,randomString):\n",
    "        self.randomString=randomString\n",
    "        \n",
    "    def getString(self):\n",
    "        string = input(\"Please enter a string: \")\n",
    "        self.randomString=string\n",
    "        \n",
    "    def printString(self):\n",
    "        print(self.randomString.upper())\n",
    "        "
   ]
  },
  {
   "cell_type": "code",
   "execution_count": 5,
   "metadata": {},
   "outputs": [],
   "source": [
    "obj = stringMethods(\"random\")"
   ]
  },
  {
   "cell_type": "code",
   "execution_count": 6,
   "metadata": {},
   "outputs": [
    {
     "name": "stdout",
     "output_type": "stream",
     "text": [
      "Please enter a string: this is python object function\n"
     ]
    }
   ],
   "source": [
    "obj.getString()"
   ]
  },
  {
   "cell_type": "code",
   "execution_count": 7,
   "metadata": {},
   "outputs": [
    {
     "name": "stdout",
     "output_type": "stream",
     "text": [
      "THIS IS PYTHON OBJECT FUNCTION\n"
     ]
    }
   ],
   "source": [
    "obj.printString()"
   ]
  },
  {
   "cell_type": "code",
   "execution_count": null,
   "metadata": {},
   "outputs": [],
   "source": []
  },
  {
   "cell_type": "code",
   "execution_count": null,
   "metadata": {
    "collapsed": true
   },
   "outputs": [],
   "source": [
    "#6. Write a program that accepts a comma separated sequence of words as input and \n",
    "# prints the words in a comma-separated sequence after sorting them alphabetically.\n",
    "\n",
    "# Suppose the following input is supplied to the program: without,hello,bag,world\n",
    "# Then, the output should be: bag,hello,without,world\n",
    "\n",
    "#Hints: In case of input data being supplied to the question, it should be assumed to be a console input.\n"
   ]
  },
  {
   "cell_type": "code",
   "execution_count": 5,
   "metadata": {},
   "outputs": [],
   "source": [
    "def sortSeqOfWords(seqOfWords):\n",
    "    '''\n",
    "    This function take comma seprated sequence of words as input and sort them alphabetically.\n",
    "    Print alphabetically sorted sequence of words as output.\n",
    "    '''\n",
    "    listOfWords = seqOfWords.split(',')\n",
    "    listOfWords = sorted(listOfWords)\n",
    "    print (','.join(listOfWords))"
   ]
  },
  {
   "cell_type": "code",
   "execution_count": 6,
   "metadata": {},
   "outputs": [
    {
     "name": "stdout",
     "output_type": "stream",
     "text": [
      "without,hello,bag,world\n",
      "bag,hello,without,world\n"
     ]
    }
   ],
   "source": [
    "seqOfWords = input()\n",
    "sortSeqOfWords(seqOfWords)"
   ]
  },
  {
   "cell_type": "code",
   "execution_count": null,
   "metadata": {
    "collapsed": true
   },
   "outputs": [],
   "source": [
    "#7. Write a program that accepts a sequence of whitespace separated words \n",
    "# as input and prints the words after removing all duplicate words and sorting them alphanumerically.\n",
    "# Suppose the following input is supplied to the program: hello world and practice makes perfect and hello world again\n",
    "# Then, the output should be: again and hello makes perfect practice world\n",
    "\n",
    "#Hints: In case of input data being supplied to the question, it should be assumed to be a console input.\n",
    "#We use set container to remove duplicated data automatically and then use sorted() to sort the data.\n"
   ]
  },
  {
   "cell_type": "code",
   "execution_count": 9,
   "metadata": {},
   "outputs": [],
   "source": [
    "def remDupSorAlpha(seqOfWords):\n",
    "    '''\n",
    "    This function takes a sequence of whitespace separated words as input.\n",
    "    Remove all the duplicates word and sort the remaining words in alphanumerical order.\n",
    "    Print the sorted words. \n",
    "    '''\n",
    "    listOfWords = seqOfWords.split()\n",
    "    listOfWords = list(dict.fromkeys(listOfWords))\n",
    "    listOfWords = sorted(listOfWords)\n",
    "    print (' '.join(listOfWords)) "
   ]
  },
  {
   "cell_type": "code",
   "execution_count": 10,
   "metadata": {},
   "outputs": [
    {
     "name": "stdout",
     "output_type": "stream",
     "text": [
      "hello world and practice makes perfect and hello world again\n",
      "again and hello makes perfect practice world\n"
     ]
    }
   ],
   "source": [
    "seqOfWords = input()\n",
    "remDupSorAlpha(seqOfWords)"
   ]
  },
  {
   "cell_type": "code",
   "execution_count": 7,
   "metadata": {},
   "outputs": [],
   "source": [
    "#8. Write a program that accepts a sentence and calculate the number of upper case \n",
    "# letters and lower case letters.\n",
    "#Suppose the following input is supplied to the program: Hello world!\n",
    "#Then, the output should be: UPPER CASE 1 LOWER CASE 9\n",
    "\n",
    "#Hints: In case of input data being supplied to the question, it should be assumed to be a console input.\n"
   ]
  },
  {
   "cell_type": "code",
   "execution_count": 8,
   "metadata": {},
   "outputs": [],
   "source": [
    "def calcUpercaseLowcase(sentence):\n",
    "    '''\n",
    "    This function accepts a sentence and calculate number of upper case letters & lower case letters.\n",
    "    Prints count of upper case letters and lower case letters\n",
    "    '''\n",
    "    lowercase = 0\n",
    "    uppercase = 0\n",
    "    for i in sentence:\n",
    "        if(i.islower()):\n",
    "            lowercase= lowercase +1\n",
    "        elif(i.isupper()):\n",
    "            uppercase= uppercase +1\n",
    "    print(\"UPPER CASE {} LOWER CASE {}\".format(uppercase,lowercase))\n"
   ]
  },
  {
   "cell_type": "code",
   "execution_count": 9,
   "metadata": {},
   "outputs": [
    {
     "name": "stdout",
     "output_type": "stream",
     "text": [
      "Hello world!\n",
      "UPPER CASE 1 LOWER CASE 9\n"
     ]
    }
   ],
   "source": [
    "sentence=input()\n",
    "calcUpercaseLowcase(sentence)"
   ]
  },
  {
   "cell_type": "code",
   "execution_count": null,
   "metadata": {
    "collapsed": true
   },
   "outputs": [],
   "source": [
    "#9. A website requires the users to input username and password to register. Write a program to check the validity of password\n",
    "#input by users. Following are the criteria for checking the password:\n",
    "#1. At least 1 letter between [a-z]\n",
    "#2. At least 1 number between [0-9]\n",
    "#1. At least 1 letter between [A-Z]\n",
    "#3. At least 1 character from [$#@]\n",
    "#4. Minimum length of transaction password: 6\n",
    "#5. Maximum length of transaction password: 12\n",
    "#Your program should accept a sequence of comma separated passwords and will check them according to the above criteria. \n",
    "#Passwords that match the criteria are to be printed, each separated by a comma.\n",
    "#Example. If the following passwords are given as input to the program: ABd1234@1,a F1#,2w3E*,2We3345\n",
    "#Then, the output of the program should be: ABd1234@1\n",
    "\n",
    "# You can use module called re\n",
    "#Hints: In case of input data being supplied to the question, it should be assumed to be a console input.\n",
    "\n"
   ]
  },
  {
   "cell_type": "code",
   "execution_count": 26,
   "metadata": {},
   "outputs": [],
   "source": [
    "#import re module that provide support for regular expressions in Python. \n",
    "import re \n",
    "\n",
    "def commaSepratedPassword(seqOfPassword):\n",
    "    '''\n",
    "    This function take a squence of comma seprated passwords and check them according to the criteria given below:\n",
    "    1. At least 1 letter between [a-z]\n",
    "    2. At least 1 number between [0-9]\n",
    "    3. At least 1 letter between [A-Z]\n",
    "    4. At least 1 character from [$#@]\n",
    "    5. Minimum length of transaction password: 6\n",
    "    6. Maximum length of transaction password: 12\n",
    "    \n",
    "    Passwords that match the criteria are to be printed and each one is seperated by a comma.\n",
    "    '''\n",
    "    listOfSeqOfPassword = seqOfPassword.split(',')\n",
    "    corretPassword=''\n",
    "    for i in listOfSeqOfPassword:\n",
    "        flag = 1\n",
    "        while True:\n",
    "            if not (len(i)>=6 and len(i)<=12):\n",
    "                flag =0\n",
    "                break\n",
    "            elif not (re.search(\"[a-z]\", i)):\n",
    "                flag =0\n",
    "                break\n",
    "            elif not (re.search(\"[0-9]\", i)):\n",
    "                flag =0\n",
    "                break\n",
    "            elif not (re.search(\"[A-Z]\", i)):\n",
    "                flag =0\n",
    "                break\n",
    "            elif not (re.search(\"[$#@]\", i)):\n",
    "                flag =0\n",
    "                break\n",
    "            else: \n",
    "                flag = 1 \n",
    "                break\n",
    "        if(flag==1):\n",
    "            corretPassword=corretPassword+i+','\n",
    "    print(corretPassword[:-1])          "
   ]
  },
  {
   "cell_type": "code",
   "execution_count": 27,
   "metadata": {},
   "outputs": [
    {
     "name": "stdout",
     "output_type": "stream",
     "text": [
      "ABd1234@1,a F1#,2w3E*,2We3345\n",
      "ABd1234@1\n"
     ]
    }
   ],
   "source": [
    "seqOfPassword = input()\n",
    "commaSepratedPassword(seqOfPassword)"
   ]
  },
  {
   "cell_type": "code",
   "execution_count": null,
   "metadata": {},
   "outputs": [],
   "source": [
    "#10. Python has many built-in functions, and if you do not know how to use it, you can read document online or find some books.\n",
    "#But Python has a built-in document function for every built-in functions.\n",
    "#Please write a program to print some Python built-in functions documents, such as abs(), int(), raw_input()\n",
    "#And add document for your own function\n",
    "    \n",
    "#Hints: The built-in document method is __doc__\n"
   ]
  },
  {
   "cell_type": "code",
   "execution_count": 24,
   "metadata": {},
   "outputs": [],
   "source": [
    "def builtInFunctionDoc(functionName):\n",
    "    '''\n",
    "    This Function takes function name as input and print the document of that function.\n",
    "    '''\n",
    "    brackets = functionName[-2:]\n",
    "    if(brackets==\"()\"):\n",
    "        functionName = functionName[:len(functionName)-2]\n",
    "    print(\"{}\".format(functionName.__doc__))\n"
   ]
  },
  {
   "cell_type": "code",
   "execution_count": 25,
   "metadata": {},
   "outputs": [
    {
     "name": "stdout",
     "output_type": "stream",
     "text": [
      "Please enter function name.abs\n",
      "str(object='') -> str\n",
      "str(bytes_or_buffer[, encoding[, errors]]) -> str\n",
      "\n",
      "Create a new string object from the given object. If encoding or\n",
      "errors is specified, then the object must expose a data buffer\n",
      "that will be decoded using the given encoding and error handler.\n",
      "Otherwise, returns the result of object.__str__() (if defined)\n",
      "or repr(object).\n",
      "encoding defaults to sys.getdefaultencoding().\n",
      "errors defaults to 'strict'.\n"
     ]
    }
   ],
   "source": [
    "functionName = input(\"Please enter function name.\")\n",
    "builtInFunctionDoc(functionName)"
   ]
  },
  {
   "cell_type": "code",
   "execution_count": null,
   "metadata": {},
   "outputs": [],
   "source": []
  }
 ],
 "metadata": {
  "kernelspec": {
   "display_name": "Python 3",
   "language": "python",
   "name": "python3"
  },
  "language_info": {
   "codemirror_mode": {
    "name": "ipython",
    "version": 3
   },
   "file_extension": ".py",
   "mimetype": "text/x-python",
   "name": "python",
   "nbconvert_exporter": "python",
   "pygments_lexer": "ipython3",
   "version": "3.7.1"
  }
 },
 "nbformat": 4,
 "nbformat_minor": 2
}
